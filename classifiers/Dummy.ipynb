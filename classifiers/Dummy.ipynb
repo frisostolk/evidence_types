{
  "nbformat": 4,
  "nbformat_minor": 0,
  "metadata": {
    "colab": {
      "name": "Dummy.ipynb",
      "provenance": []
    },
    "kernelspec": {
      "name": "python3",
      "display_name": "Python 3"
    },
    "language_info": {
      "name": "python"
    }
  },
  "cells": [
    {
      "cell_type": "markdown",
      "source": [
        "# DUMMY CLASSIFIER (THESIS FRISO STOLK)"
      ],
      "metadata": {
        "id": "V1SFqyzQjquQ"
      }
    },
    {
      "cell_type": "markdown",
      "source": [
        "# PACKAGES"
      ],
      "metadata": {
        "id": "wg2en9QIjvIR"
      }
    },
    {
      "cell_type": "code",
      "execution_count": 8,
      "metadata": {
        "id": "5UGnsxSujpVN"
      },
      "outputs": [],
      "source": [
        "import numpy as np\n",
        "import pandas as pd\n",
        "import random\n",
        "from sklearn.metrics import confusion_matrix, classification_report"
      ]
    },
    {
      "cell_type": "markdown",
      "source": [
        "# SPLIT DATA"
      ],
      "metadata": {
        "id": "GTmZE3X8km1L"
      }
    },
    {
      "cell_type": "code",
      "source": [
        "# reads dataset and split it into train dev and test set\n",
        "def prepare_data(dataset):\n",
        "  # prepares data and shuffle it in 30 threads train 10 threads dev and 10 threads test\n",
        "  dataset.head()\n",
        "  thread_ids = dataset[\"thread_id\"].unique()\n",
        "  random.Random(10).shuffle(thread_ids)\n",
        "\n",
        "  train_ids = thread_ids[:30]\n",
        "  dev_ids = thread_ids[30:40]\n",
        "  test_ids = thread_ids[40:50]\n",
        "\n",
        "  train = dataset.loc[dataset[\"thread_id\"].isin(train_ids)]\n",
        "  test = dataset.loc[dataset[\"thread_id\"].isin(test_ids)]\n",
        "  dev = dataset.loc[dataset[\"thread_id\"].isin(dev_ids)]\n",
        "  return(train,test,dev)"
      ],
      "metadata": {
        "id": "WQsUHlJwkD_d"
      },
      "execution_count": 1,
      "outputs": []
    },
    {
      "cell_type": "markdown",
      "source": [
        "# RUN DUMMY CLASSIFIER"
      ],
      "metadata": {
        "id": "16Dvhjj5kpJW"
      }
    },
    {
      "cell_type": "code",
      "source": [
        "df = pd.read_csv('final_dataset.csv')\n",
        "df_train, df_val, df_test = prepare_data(df)\n",
        "X = list(df_test[\"sentence\"])\n",
        "Y = list(df_test[\"evidence_no_continue\"])\n",
        "from sklearn.dummy import DummyClassifier\n",
        "dummy_clf = DummyClassifier(strategy=\"most_frequent\")\n",
        "dummy_clf.fit(X, Y)\n",
        "Ypred = dummy_clf.predict(X)\n",
        "print(classification_report(Y, Ypred))"
      ],
      "metadata": {
        "colab": {
          "base_uri": "https://localhost:8080/"
        },
        "id": "oChC5bQaj4jZ",
        "outputId": "f21a6f8f-b770-4561-ca15-79d40f036385"
      },
      "execution_count": 9,
      "outputs": [
        {
          "output_type": "stream",
          "name": "stdout",
          "text": [
            "                  precision    recall  f1-score   support\n",
            "\n",
            "        Anecdote       0.00      0.00      0.00       144\n",
            "      Assumption       0.58      1.00      0.73       763\n",
            "      Definition       0.00      0.00      0.00        30\n",
            "            None       0.00      0.00      0.00       323\n",
            "           Other       0.00      0.00      0.00        20\n",
            "Statistics/Study       0.00      0.00      0.00        18\n",
            "       Testimony       0.00      0.00      0.00        20\n",
            "\n",
            "        accuracy                           0.58      1318\n",
            "       macro avg       0.08      0.14      0.10      1318\n",
            "    weighted avg       0.34      0.58      0.42      1318\n",
            "\n"
          ]
        },
        {
          "output_type": "stream",
          "name": "stderr",
          "text": [
            "/usr/local/lib/python3.7/dist-packages/sklearn/metrics/_classification.py:1318: UndefinedMetricWarning: Precision and F-score are ill-defined and being set to 0.0 in labels with no predicted samples. Use `zero_division` parameter to control this behavior.\n",
            "  _warn_prf(average, modifier, msg_start, len(result))\n",
            "/usr/local/lib/python3.7/dist-packages/sklearn/metrics/_classification.py:1318: UndefinedMetricWarning: Precision and F-score are ill-defined and being set to 0.0 in labels with no predicted samples. Use `zero_division` parameter to control this behavior.\n",
            "  _warn_prf(average, modifier, msg_start, len(result))\n",
            "/usr/local/lib/python3.7/dist-packages/sklearn/metrics/_classification.py:1318: UndefinedMetricWarning: Precision and F-score are ill-defined and being set to 0.0 in labels with no predicted samples. Use `zero_division` parameter to control this behavior.\n",
            "  _warn_prf(average, modifier, msg_start, len(result))\n"
          ]
        }
      ]
    }
  ]
}